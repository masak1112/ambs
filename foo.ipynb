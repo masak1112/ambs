{
 "cells": [
  {
   "cell_type": "code",
   "execution_count": 35,
   "metadata": {},
   "outputs": [],
   "source": [
    "import xarray as xr\n",
    "import numpy as np\n",
    "\n",
    "filenames_t850 = [\n",
    "    \"data_t850/temperature_850hPa_1979_5.625deg.nc\",\n",
    "    \"data_t850/temperature_850hPa_1980_5.625deg.nc\"\n",
    "]\n",
    "filenames_z500 = [\n",
    "    \"data_z500/geopotential_500hPa_1979_5.625deg.nc\",\n",
    "    \"data_z500/geopotential_500hPa_1980_5.625deg.nc\"\n",
    "]\n",
    "filenames = [*filenames_t850, *filenames_z500]\n",
    "ds = xr.open_mfdataset(filenames, coords=\"minimal\", compat=\"override\")\n",
    "ds = ds.drop_vars(\"level\")"
   ]
  },
  {
   "cell_type": "code",
   "execution_count": 37,
   "metadata": {},
   "outputs": [
    {
     "data": {
      "text/plain": [
       "(32, 64, 2)"
      ]
     },
     "execution_count": 37,
     "metadata": {},
     "output_type": "execute_result"
    }
   ],
   "source": [
    "da = ds.to_array(dim=\"variables\").squeeze()\n",
    "\n",
    "dims = [\"time\", \"lat\", \"lon\", \"variables\"]\n",
    "da = da.transpose(*dims)\n",
    "\n",
    "def generator(iterable):\n",
    "    iterator = iter(iterable)\n",
    "    yield from iterator\n",
    "\n",
    "da.shape[1:]"
   ]
  },
  {
   "cell_type": "code",
   "execution_count": null,
   "metadata": {},
   "outputs": [],
   "source": []
  }
 ],
 "metadata": {
  "kernelspec": {
   "display_name": "ambs",
   "language": "python",
   "name": "ambs"
  },
  "language_info": {
   "codemirror_mode": {
    "name": "ipython",
    "version": 3
   },
   "file_extension": ".py",
   "mimetype": "text/x-python",
   "name": "python",
   "nbconvert_exporter": "python",
   "pygments_lexer": "ipython3",
   "version": "3.10.4"
  },
  "orig_nbformat": 4,
  "vscode": {
   "interpreter": {
    "hash": "341ba53bbba0a6f1cf5ae0d50bab29c5266302a4d2a8950e418cc5f54c6f95ff"
   }
  }
 },
 "nbformat": 4,
 "nbformat_minor": 2
}
