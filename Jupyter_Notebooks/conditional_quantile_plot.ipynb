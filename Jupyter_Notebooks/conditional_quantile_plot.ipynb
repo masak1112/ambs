{
 "cells": [
  {
   "cell_type": "code",
   "execution_count": 2,
   "id": "under-cooler",
   "metadata": {},
   "outputs": [],
   "source": [
    "import os, sys\n",
    "import glob\n",
    "import datetime as dt\n",
    "import numpy as np\n",
    "import xarray as xr\n",
    "\n",
    "import time "
   ]
  },
  {
   "cell_type": "code",
   "execution_count": 79,
   "id": "becoming-dover",
   "metadata": {},
   "outputs": [
    {
     "name": "stdout",
     "output_type": "stream",
     "text": [
      "8440\n",
      "Data variables:\n",
      "    2t_in                   (in_hour, lat, lon) float32 ...\n",
      "    tcc_in                  (in_hour, lat, lon) float32 ...\n",
      "    t_850_in                (in_hour, lat, lon) float32 ...\n",
      "    2t_ref                  (fcst_hour, lat, lon) float32 ...\n",
      "    tcc_ref                 (fcst_hour, lat, lon) float32 ...\n",
      "    t_850_ref               (fcst_hour, lat, lon) float32 ...\n",
      "    2t_savp_fcst            (fcst_hour, lat, lon) float32 ...\n",
      "    tcc_savp_fcst           (fcst_hour, lat, lon) float32 ...\n",
      "    t_850_savp_fcst         (fcst_hour, lat, lon) float32 ...\n",
      "    2t_persistence_fcst     (fcst_hour, lat, lon) float64 ...\n",
      "    tcc_persistence_fcst    (fcst_hour, lat, lon) float64 ...\n",
      "    t_850_persistence_fcst  (fcst_hour, lat, lon) float64 ...\n"
     ]
    }
   ],
   "source": [
    "forecast_path = \"/p/home/jusers/langguth1/juwels/video_prediction_shared_folder/results/era5-Y2007-2019M01to12-80x48-3960N0180E-2t_tcc_t_850_langguth1/savp/20210505T131220_mache1_karim_savp_smreg_cv3_3\"\n",
    "fnames= os.path.join(forecast_path, \"vfp_date_*sample_ind_*.nc\" )\n",
    "\n",
    "fnames = glob.glob(fnames)\n",
    "print(len(fnames))\n",
    "\n",
    "dfile = xr.open_dataset(fnames[99])\n",
    "\n",
    "print(dfile.data_vars)\n",
    "#print(dfile[\"init_time\"])\n",
    "#print(dfile[\"2t_savp_fcst\"][2])"
   ]
  },
  {
   "cell_type": "code",
   "execution_count": 80,
   "id": "editorial-bunny",
   "metadata": {},
   "outputs": [],
   "source": [
    "def non_interst_vars(ds):\n",
    "    \"\"\"\n",
    "    Creates list of variables that are not of interest. For this, vars2proc must be defined at global scope\n",
    "    :param ds: the dataset\n",
    "    :return: list of variables in dataset that are not of interest\n",
    "    \"\"\"\n",
    "    return [v for v in ds.data_vars\n",
    "            if v not in vars2proc]\n",
    "#\n",
    "# ====================================================================================================\n",
    "\n",
    "\n",
    "def get_relevant_vars(ds):\n",
    "    \"\"\"\n",
    "    Drops variables that are not of interest from dataset and also shrinks data to cells of interest.\n",
    "    For this, ncells must be a dimension of the dataset and dmask_ref_inds must be defined at gloabl scope\n",
    "    :param ds: the dataset\n",
    "    :return: dataset with non-interesting variables dropped and data shrinked to region of interest\n",
    "    \"\"\"\n",
    "    return ds.drop(non_interst_vars(ds)).isel(fcst_hour=11)"
   ]
  },
  {
   "cell_type": "code",
   "execution_count": 81,
   "id": "great-metro",
   "metadata": {},
   "outputs": [
    {
     "name": "stdout",
     "output_type": "stream",
     "text": [
      "Registering and loading data took 1057.31 seconds\n"
     ]
    }
   ],
   "source": [
    "vars2proc = [\"2t_savp_fcst\", \"2t_ref\"]\n",
    "\n",
    "time0 = time.time()\n",
    "with xr.open_mfdataset(fnames, decode_cf=True, combine=\"nested\", concat_dim=[\"init_time\"], compat=\"broadcast_equals\", preprocess=get_relevant_vars) as dfiles:\n",
    "    data = dfiles.load()\n",
    "    #times0 = dfiles[\"time_forecast\"]\n",
    "    print(\"Registering and loading data took {0:.2f} seconds\".format(time.time()- time0))"
   ]
  },
  {
   "cell_type": "code",
   "execution_count": 82,
   "id": "hindu-wesley",
   "metadata": {},
   "outputs": [
    {
     "name": "stdout",
     "output_type": "stream",
     "text": [
      "<xarray.Dataset>\n",
      "Dimensions:       (init_time: 8440, lat: 48, lon: 80)\n",
      "Coordinates:\n",
      "  * init_time     (init_time) datetime64[ns] 2010-08-20T05:00:00 ... 2010-03-...\n",
      "  * lat           (lat) float64 53.7 53.4 53.1 52.8 52.5 ... 40.5 40.2 39.9 39.6\n",
      "  * lon           (lon) float64 1.8 2.1 2.4 2.7 3.0 ... 24.3 24.6 24.9 25.2 25.5\n",
      "    fcst_hour     int64 12\n",
      "Data variables:\n",
      "    2t_savp_fcst  (init_time, lat, lon) float32 291.3 291.8 ... 288.5 288.2\n",
      "    2t_ref        (init_time, lat, lon) float32 292.2 292.1 ... 288.5 288.6\n"
     ]
    }
   ],
   "source": [
    "data_correct = xr.Dataset({\"2t_savp_fcst\": data[\"2t_savp_fcst\"], \"2t_ref\": data[\"2t_ref\"]})\n",
    "print(data_correct)"
   ]
  },
  {
   "cell_type": "code",
   "execution_count": 83,
   "id": "sweet-happening",
   "metadata": {},
   "outputs": [
    {
     "name": "stdout",
     "output_type": "stream",
     "text": [
      "[242, 243, 244, 245, 246, 247, 248, 249, 250, 251, 252, 253, 254, 255, 256, 257, 258, 259, 260, 261, 262, 263, 264, 265, 266, 267, 268, 269, 270, 271, 272, 273, 274, 275, 276, 277, 278, 279, 280, 281, 282, 283, 284, 285, 286, 287, 288, 289, 290, 291, 292, 293, 294, 295, 296, 297, 298, 299, 300, 301, 302, 303, 304, 305, 306, 307, 308, 309, 310, 311, 312, 313]\n"
     ]
    }
   ],
   "source": [
    "data_fcst, data_ref = data_correct[\"2t_savp_fcst\"], data_correct[\"2t_ref\"]\n",
    "\n",
    "fcst_min, fcst_max = np.floor(np.min(data_fcst)), np.ceil(np.max(data_fcst))\n",
    "x_bins = list(np.arange(int(fcst_min), int(fcst_max) + 1))\n",
    "x_bins_c = 0.5*(np.asarray(x_bins[0:-1]) + np.asarray(x_bins[1:]))\n",
    "nbins = len(x_bins) - 1\n",
    "\n",
    "print(x_bins)"
   ]
  },
  {
   "cell_type": "code",
   "execution_count": 84,
   "id": "incorporate-flooring",
   "metadata": {},
   "outputs": [],
   "source": [
    "import matplotlib.pyplot as plt\n",
    "\n",
    "quantiles = [0.05, 0.5, 0.95]\n",
    "nquantiles = len(quantiles)\n",
    "quantile_panel = xr.DataArray(np.full((nbins, nquantiles), np.nan), coords={\"bin_center\": x_bins_c, \"quantile\": quantiles},\n",
    "                              dims=[\"bin_center\", \"quantile\"])\n",
    "for i in np.arange(nbins):\n",
    "    data_cropped = data_correct[\"2t_ref\"].where(np.logical_and(data_correct[\"2t_savp_fcst\"] >= x_bins[i],\n",
    "                                                               data_correct[\"2t_savp_fcst\"] < x_bins[i+1]))\n",
    "    quantile_panel.loc[dict(bin_center=x_bins_c[i])] = data_cropped.quantile([0.05, 0.5, 0.95])\n",
    "    \n",
    "x_bins_c = x_bins_c - 273.15\n",
    "quantile_panel = quantile_panel - 273.15"
   ]
  },
  {
   "cell_type": "code",
   "execution_count": 85,
   "id": "brilliant-aberdeen",
   "metadata": {},
   "outputs": [
    {
     "data": {
      "image/png": "[encoded data removed]",
      "text/plain": [
       "<Figure size 648x432 with 1 Axes>"
      ]
     },
     "metadata": {
      "needs_background": "light"
     },
     "output_type": "display_data"
    }
   ],
   "source": [
    "fig, ax = plt.subplots(figsize=(9,6))\n",
    "\n",
    "ls_all = [\"--\", \"-\", \"--\"]\n",
    "lw_all = [2., 1.5, 2.]\n",
    "ax.plot(x_bins_c, x_bins_c, color='k', label='reference 1:1', linewidth=1.)\n",
    "for i in np.arange(3):\n",
    "    ax.plot(x_bins_c, quantile_panel.isel(quantile=i), ls=ls_all[i], color=\"k\", lw=lw_all[i])\n",
    "    \n",
    "ax.set_ylabel(\"2m temperature from ERA5 [°C]\", fontsize=16)\n",
    "ax.set_xlabel(\"Predicted 2m temperature from SAVP [°C]\", fontsize=16)\n",
    "\n",
    "ax.tick_params(axis=\"both\", labelsize=14)\n",
    "\n",
    "fig.savefig(\"./first_cond_quantile.png\")\n",
    "    "
   ]
  },
  {
   "cell_type": "code",
   "execution_count": 7,
   "id": "relevant-freight",
   "metadata": {},
   "outputs": [],
   "source": [
    "#data_grouped = data_correct.groupby_bins(\"2t_savp_fcst\", x_bins)#.groups"
   ]
  },
  {
   "cell_type": "code",
   "execution_count": 148,
   "id": "ordered-cambridge",
   "metadata": {},
   "outputs": [
    {
     "name": "stdout",
     "output_type": "stream",
     "text": [
      "[[[22 22 22 ... 18 18 18]\n",
      "  [22 22 22 ... 18 18 18]\n",
      "  [22 22 22 ... 19 19 19]\n",
      "  ...\n",
      "  [29 29 29 ... 30 30 30]\n",
      "  [29 30 29 ... 31 31 31]\n",
      "  [29 30 29 ... 31 31 31]]\n",
      "\n",
      " [[21 21 21 ... 20 20 20]\n",
      "  [20 21 21 ... 20 20 20]\n",
      "  [20 21 21 ... 20 20 20]\n",
      "  ...\n",
      "  [30 30 30 ... 31 31 31]\n",
      "  [30 30 30 ... 31 31 31]\n",
      "  [30 30 30 ... 31 31 31]]\n",
      "\n",
      " [[21 21 21 ... 21 21 21]\n",
      "  [21 21 21 ... 21 21 21]\n",
      "  [21 21 21 ... 21 21 21]\n",
      "  ...\n",
      "  [28 28 28 ... 31 31 31]\n",
      "  [28 28 28 ... 32 32 31]\n",
      "  [28 29 29 ... 32 32 32]]\n",
      "\n",
      " ...\n",
      "\n",
      " [[22 22 22 ... 20 20 20]\n",
      "  [22 22 22 ... 20 20 20]\n",
      "  [22 21 21 ... 20 20 20]\n",
      "  ...\n",
      "  [29 29 29 ... 31 31 31]\n",
      "  [29 29 29 ... 32 32 32]\n",
      "  [30 30 29 ... 32 32 32]]\n",
      "\n",
      " [[21 21 21 ... 20 20 20]\n",
      "  [20 21 21 ... 20 20 20]\n",
      "  [20 20 21 ... 20 20 20]\n",
      "  ...\n",
      "  [30 30 30 ... 31 31 31]\n",
      "  [30 30 29 ... 31 31 31]\n",
      "  [30 30 30 ... 31 31 31]]\n",
      "\n",
      " [[22 22 22 ... 24 24 24]\n",
      "  [22 22 22 ... 24 23 24]\n",
      "  [22 22 22 ... 24 24 24]\n",
      "  ...\n",
      "  [27 27 27 ... 31 31 31]\n",
      "  [28 28 28 ... 32 32 32]\n",
      "  [28 28 28 ... 32 32 32]]]\n"
     ]
    }
   ],
   "source": [
    "inds_of_bins = np.digitize(data_fcst, x_bins, right=True)\n",
    "\n",
    "print(inds_of_bins)"
   ]
  },
  {
   "cell_type": "code",
   "execution_count": 149,
   "id": "furnished-customer",
   "metadata": {},
   "outputs": [
    {
     "name": "stdout",
     "output_type": "stream",
     "text": [
      "<xarray.DataArray '2t_ref' (2t_savp_fcst_bins: 37)>\n",
      "array([259.60351562, 264.13945557, 264.74759033, 265.45030518,\n",
      "       266.47970703, 267.3628302 , 268.44342804, 269.80157959,\n",
      "       270.4291217 , 271.22656982, 272.41841827, 274.18320801,\n",
      "       274.74815369, 275.68839111, 276.3840918 , 277.0491394 ,\n",
      "       277.99171387, 279.1111615 , 280.24440918, 281.56947693,\n",
      "       282.817146  , 284.15313873, 285.25139038, 286.46736084,\n",
      "       287.11281006, 287.56309875, 288.39205322, 289.28383789,\n",
      "       290.12092529, 291.00213623, 291.93958588, 292.7901001 ,\n",
      "       294.50114746, 295.28106201, 295.7451416 , 296.17975464,\n",
      "       295.94475342])\n",
      "Coordinates:\n",
      "  * 2t_savp_fcst_bins  (2t_savp_fcst_bins) object (260, 261] ... (296, 297]\n",
      "    quantile           float64 0.99\n",
      "<xarray.DataArray '2t_savp_fcst' (2t_savp_fcst_bins: 37)>\n",
      "array([260.51538086, 261.99571045, 262.96671509, 263.99466095,\n",
      "       264.98212372, 265.99100769, 266.99321747, 267.99145386,\n",
      "       268.99003754, 269.9897348 , 270.99363922, 271.99260651,\n",
      "       272.98925781, 273.99296265, 274.99265747, 275.9934906 ,\n",
      "       276.99263123, 277.99108887, 278.98980103, 279.99055573,\n",
      "       280.98829712, 281.99064941, 282.98851074, 283.98887085,\n",
      "       284.99008545, 285.99044281, 286.99019897, 287.9892334 ,\n",
      "       288.98918335, 289.98908264, 290.98603363, 291.96720215,\n",
      "       292.98072205, 293.98917358, 294.99038391, 295.9605835 ,\n",
      "       296.59046722])\n",
      "Coordinates:\n",
      "  * 2t_savp_fcst_bins  (2t_savp_fcst_bins) object (260, 261] ... (296, 297]\n",
      "    quantile           float64 0.99\n"
     ]
    }
   ],
   "source": [
    "def calc_quantile(x, dim =\"init_time\"):\n",
    "    return x.quantile(0.99)\n",
    "\n",
    "cond_quantile1 = data_grouped.map(calc_quantile)\n",
    "#cond_quantile2 = data_grouped.map(calc_quantile)\n",
    "\n",
    "\n",
    "print(cond_quantile1[\"quantile\"])\n",
    "print(cond_quantile1[\"2t_savp_fcst\"])\n",
    "\n",
    "#print(cond_quantile2[\"2t_ref\"])\n",
    "#print(cond_quantile2[\"2t_savp_fcst\"])"
   ]
  },
  {
   "cell_type": "code",
   "execution_count": null,
   "id": "electrical-evening",
   "metadata": {},
   "outputs": [],
   "source": []
  }
 ],
 "metadata": {
  "kernelspec": {
   "display_name": "Python 3",
   "language": "python",
   "name": "python3"
  },
  "language_info": {
   "codemirror_mode": {
    "name": "ipython",
    "version": 3
   },
   "file_extension": ".py",
   "mimetype": "text/x-python",
   "name": "python",
   "nbconvert_exporter": "python",
   "pygments_lexer": "ipython3",
   "version": "3.8.5"
  }
 },
 "nbformat": 4,
 "nbformat_minor": 5
}
